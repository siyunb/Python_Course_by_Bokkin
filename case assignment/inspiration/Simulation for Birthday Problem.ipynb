{
 "cells": [
  {
   "cell_type": "markdown",
   "metadata": {},
   "source": [
    "## Step 1 导入所需要的库"
   ]
  },
  {
   "cell_type": "code",
   "execution_count": 13,
   "metadata": {
    "collapsed": true
   },
   "outputs": [],
   "source": [
    "import numpy as np\n",
    "import pandas as pd\n",
    "from bokeh.models import ColumnDataSource\n",
    "from bokeh.plotting import figure,show"
   ]
  },
  {
   "cell_type": "markdown",
   "metadata": {},
   "source": [
    "## Step 2 生成生日"
   ]
  },
  {
   "cell_type": "code",
   "execution_count": 2,
   "metadata": {
    "collapsed": true
   },
   "outputs": [],
   "source": [
    "month = list(np.random.randint(1,13,size=50))# 生成月份"
   ]
  },
  {
   "cell_type": "code",
   "execution_count": 3,
   "metadata": {
    "collapsed": true
   },
   "outputs": [],
   "source": [
    "def generate_day(month):                      #生成日期\n",
    "    if month in [1,3,5,7,8,10,12]:\n",
    "        return (month,np.random.randint(1,32))\n",
    "    elif month in [4,6,9,11]:\n",
    "        return (month,np.random.randint(1,31))\n",
    "    elif month == 2:\n",
    "        return (month,np.random.randint(1,29))"
   ]
  },
  {
   "cell_type": "code",
   "execution_count": 4,
   "metadata": {
    "collapsed": true
   },
   "outputs": [],
   "source": [
    "one_class_birthdays = list(map(generate_day,month))                 #一班同学的所有生日"
   ]
  },
  {
   "cell_type": "code",
   "execution_count": 5,
   "metadata": {
    "collapsed": true
   },
   "outputs": [],
   "source": [
    "def duplicate(num_list):                          # 判断一班生日是否有重复\n",
    "    if len(num_list)!=len(set(num_list)):\n",
    "        return 1\n",
    "    else:\n",
    "        return 0"
   ]
  },
  {
   "cell_type": "code",
   "execution_count": 6,
   "metadata": {},
   "outputs": [
    {
     "data": {
      "text/plain": [
       "1"
      ]
     },
     "execution_count": 6,
     "metadata": {},
     "output_type": "execute_result"
    }
   ],
   "source": [
    "duplicate(one_class_birthdays)"
   ]
  },
  {
   "cell_type": "markdown",
   "metadata": {},
   "source": [
    "## Step 3 将上面所述全部转化为一个函数"
   ]
  },
  {
   "cell_type": "code",
   "execution_count": 16,
   "metadata": {
    "collapsed": true
   },
   "outputs": [],
   "source": [
    "def same_birthday_probability(time, number):\n",
    "    count = 0\n",
    "    i = 0\n",
    "    while i < time:\n",
    "        month = list(np.random.randint(1,13,size = number))\n",
    "        one_class_birthdays = list(map(generate_day,month)) \n",
    "        count = count + duplicate(one_class_birthdays)\n",
    "        i+=1\n",
    "    probability = count/time\n",
    "    return (number,probability)"
   ]
  },
  {
   "cell_type": "code",
   "execution_count": 17,
   "metadata": {},
   "outputs": [
    {
     "data": {
      "text/plain": [
       "(50, 0.97027)"
      ]
     },
     "execution_count": 17,
     "metadata": {},
     "output_type": "execute_result"
    }
   ],
   "source": [
    "same_birthday_probability(100000,50)"
   ]
  },
  {
   "cell_type": "markdown",
   "metadata": {},
   "source": [
    "## Step 4 出折线图"
   ]
  },
  {
   "cell_type": "code",
   "execution_count": 60,
   "metadata": {},
   "outputs": [],
   "source": [
    "def iteration(time, number_list):\n",
    "    probability = []\n",
    "    for number in number_list:\n",
    "        result_tuple= same_birthday_probability(time,number)\n",
    "        probability.append(result_tuple[1])\n",
    "    return probability, number_list"
   ]
  },
  {
   "cell_type": "code",
   "execution_count": 66,
   "metadata": {},
   "outputs": [],
   "source": [
    "probability,number_list = iteration(100000,[10,15,20,25,30,35,40,45,50,55,60,65])"
   ]
  },
  {
   "cell_type": "code",
   "execution_count": 67,
   "metadata": {
    "collapsed": true
   },
   "outputs": [],
   "source": [
    "df = pd.DataFrame({'probability':probability,'number':number_list})\n",
    "# 创建数据\n",
    "source = ColumnDataSource(data = df)\n",
    "# 转化为ColumnDataSource对象"
   ]
  },
  {
   "cell_type": "code",
   "execution_count": 79,
   "metadata": {},
   "outputs": [
    {
     "data": {
      "text/html": [
       "\n",
       "\n",
       "    <div class=\"bk-root\">\n",
       "        <div class=\"bk-plotdiv\" id=\"836da896-76f8-4f7a-8c77-338094176cef\"></div>\n",
       "    </div>\n",
       "<script type=\"text/javascript\">\n",
       "  \n",
       "  (function(global) {\n",
       "    function now() {\n",
       "      return new Date();\n",
       "    }\n",
       "  \n",
       "    var force = false;\n",
       "  \n",
       "    if (typeof (window._bokeh_onload_callbacks) === \"undefined\" || force === true) {\n",
       "      window._bokeh_onload_callbacks = [];\n",
       "      window._bokeh_is_loading = undefined;\n",
       "    }\n",
       "  \n",
       "  \n",
       "    \n",
       "    if (typeof (window._bokeh_timeout) === \"undefined\" || force === true) {\n",
       "      window._bokeh_timeout = Date.now() + 0;\n",
       "      window._bokeh_failed_load = false;\n",
       "    }\n",
       "  \n",
       "    var NB_LOAD_WARNING = {'data': {'text/html':\n",
       "       \"<div style='background-color: #fdd'>\\n\"+\n",
       "       \"<p>\\n\"+\n",
       "       \"BokehJS does not appear to have successfully loaded. If loading BokehJS from CDN, this \\n\"+\n",
       "       \"may be due to a slow or bad network connection. Possible fixes:\\n\"+\n",
       "       \"</p>\\n\"+\n",
       "       \"<ul>\\n\"+\n",
       "       \"<li>re-rerun `output_notebook()` to attempt to load from CDN again, or</li>\\n\"+\n",
       "       \"<li>use INLINE resources instead, as so:</li>\\n\"+\n",
       "       \"</ul>\\n\"+\n",
       "       \"<code>\\n\"+\n",
       "       \"from bokeh.resources import INLINE\\n\"+\n",
       "       \"output_notebook(resources=INLINE)\\n\"+\n",
       "       \"</code>\\n\"+\n",
       "       \"</div>\"}};\n",
       "  \n",
       "    function display_loaded() {\n",
       "      if (window.Bokeh !== undefined) {\n",
       "        var el = document.getElementById(\"836da896-76f8-4f7a-8c77-338094176cef\");\n",
       "        el.textContent = \"BokehJS \" + Bokeh.version + \" successfully loaded.\";\n",
       "      } else if (Date.now() < window._bokeh_timeout) {\n",
       "        setTimeout(display_loaded, 100)\n",
       "      }\n",
       "    }\n",
       "  \n",
       "    function run_callbacks() {\n",
       "      window._bokeh_onload_callbacks.forEach(function(callback) { callback() });\n",
       "      delete window._bokeh_onload_callbacks\n",
       "      console.info(\"Bokeh: all callbacks have finished\");\n",
       "    }\n",
       "  \n",
       "    function load_libs(js_urls, callback) {\n",
       "      window._bokeh_onload_callbacks.push(callback);\n",
       "      if (window._bokeh_is_loading > 0) {\n",
       "        console.log(\"Bokeh: BokehJS is being loaded, scheduling callback at\", now());\n",
       "        return null;\n",
       "      }\n",
       "      if (js_urls == null || js_urls.length === 0) {\n",
       "        run_callbacks();\n",
       "        return null;\n",
       "      }\n",
       "      console.log(\"Bokeh: BokehJS not loaded, scheduling load and callback at\", now());\n",
       "      window._bokeh_is_loading = js_urls.length;\n",
       "      for (var i = 0; i < js_urls.length; i++) {\n",
       "        var url = js_urls[i];\n",
       "        var s = document.createElement('script');\n",
       "        s.src = url;\n",
       "        s.async = false;\n",
       "        s.onreadystatechange = s.onload = function() {\n",
       "          window._bokeh_is_loading--;\n",
       "          if (window._bokeh_is_loading === 0) {\n",
       "            console.log(\"Bokeh: all BokehJS libraries loaded\");\n",
       "            run_callbacks()\n",
       "          }\n",
       "        };\n",
       "        s.onerror = function() {\n",
       "          console.warn(\"failed to load library \" + url);\n",
       "        };\n",
       "        console.log(\"Bokeh: injecting script tag for BokehJS library: \", url);\n",
       "        document.getElementsByTagName(\"head\")[0].appendChild(s);\n",
       "      }\n",
       "    };var element = document.getElementById(\"836da896-76f8-4f7a-8c77-338094176cef\");\n",
       "    if (element == null) {\n",
       "      console.log(\"Bokeh: ERROR: autoload.js configured with elementid '836da896-76f8-4f7a-8c77-338094176cef' but no matching script tag was found. \")\n",
       "      return false;\n",
       "    }\n",
       "  \n",
       "    var js_urls = [];\n",
       "  \n",
       "    var inline_js = [\n",
       "      function(Bokeh) {\n",
       "        (function() {\n",
       "          var fn = function() {\n",
       "            var docs_json = {\"b88c7e74-86a3-4ba4-8fb5-1ea1e1dbf02d\":{\"roots\":{\"references\":[{\"attributes\":{\"fill_alpha\":{\"value\":0.1},\"fill_color\":{\"value\":\"#1f77b4\"},\"line_alpha\":{\"value\":0.1},\"line_color\":{\"value\":\"#1f77b4\"},\"size\":{\"units\":\"screen\",\"value\":3},\"x\":{\"field\":\"number\"},\"y\":{\"field\":\"probability\"}},\"id\":\"b0727e09-54a9-4395-95fe-1729bf9b7daf\",\"type\":\"Circle\"},{\"attributes\":{\"background_fill_color\":{\"value\":\"aliceblue\"},\"below\":[{\"id\":\"3de04199-5ecd-4d5c-87b4-ffd70a863ee9\",\"type\":\"LinearAxis\"}],\"left\":[{\"id\":\"8b2e584e-4060-442a-b492-3580f8a03ffd\",\"type\":\"LinearAxis\"}],\"outline_line_alpha\":{\"value\":0.3},\"outline_line_color\":{\"value\":\"yellow\"},\"outline_line_width\":{\"value\":5},\"plot_height\":400,\"renderers\":[{\"id\":\"3de04199-5ecd-4d5c-87b4-ffd70a863ee9\",\"type\":\"LinearAxis\"},{\"id\":\"54d63b08-632b-4018-a938-10918e89af1b\",\"type\":\"Grid\"},{\"id\":\"8b2e584e-4060-442a-b492-3580f8a03ffd\",\"type\":\"LinearAxis\"},{\"id\":\"b57f9e62-85a6-4758-8608-c738f0d85bde\",\"type\":\"Grid\"},{\"id\":\"632aa409-a9c6-4065-9eff-3b706464196d\",\"type\":\"BoxAnnotation\"},{\"id\":\"f7dd13fc-d963-4939-a118-8d2e5f3625e2\",\"type\":\"GlyphRenderer\"},{\"id\":\"0e712fd8-bf79-429f-9107-feeac88abd26\",\"type\":\"GlyphRenderer\"}],\"title\":{\"id\":\"57aa17e4-e38a-4180-8af0-2b12e4305d9a\",\"type\":\"Title\"},\"tool_events\":{\"id\":\"5e9effe0-5c45-4eaa-8c73-75d6dacf1c1d\",\"type\":\"ToolEvents\"},\"toolbar\":{\"id\":\"6736f25f-fa4d-4d22-96dc-24eeaae8d632\",\"type\":\"Toolbar\"},\"x_range\":{\"id\":\"07450bb3-77ba-49fa-b2e5-e7699030ff35\",\"type\":\"DataRange1d\"},\"y_range\":{\"id\":\"ffb23987-4934-4654-b8af-18a5ef948198\",\"type\":\"DataRange1d\"}},\"id\":\"873849f8-bbe4-4be7-ab74-1bb79d823448\",\"subtype\":\"Figure\",\"type\":\"Plot\"},{\"attributes\":{\"callback\":null,\"column_names\":[\"number\",\"probability\",\"index\"],\"data\":{\"index\":[0,1,2,3,4,5,6,7,8,9,10,11],\"number\":[10,15,20,25,30,35,40,45,50,55,60,65],\"probability\":{\"__ndarray__\":\"RwN4CyQovj/SxhFr8SnQP9+mP/uRIto/xT2WPnRB4j8TZtr+lZXmPx7+mqxRD+o/K/aX3ZOH7D+5iO/ErBfuPzlFR3L5D+8/FJZ4QNmU7z/lszwP7s7vP+QxA5Xx7+8/\",\"dtype\":\"float64\",\"shape\":[12]}}},\"id\":\"10172ff6-6730-4425-bc93-98ce86065fc0\",\"type\":\"ColumnDataSource\"},{\"attributes\":{\"plot\":{\"id\":\"873849f8-bbe4-4be7-ab74-1bb79d823448\",\"subtype\":\"Figure\",\"type\":\"Plot\"},\"ticker\":{\"id\":\"54bde3e3-02df-45c6-b09a-aa90c5fc0b08\",\"type\":\"BasicTicker\"}},\"id\":\"54d63b08-632b-4018-a938-10918e89af1b\",\"type\":\"Grid\"},{\"attributes\":{\"bottom_units\":\"screen\",\"fill_alpha\":{\"value\":0.5},\"fill_color\":{\"value\":\"lightgrey\"},\"left_units\":\"screen\",\"level\":\"overlay\",\"line_alpha\":{\"value\":1.0},\"line_color\":{\"value\":\"black\"},\"line_dash\":[4,4],\"line_width\":{\"value\":2},\"plot\":null,\"render_mode\":\"css\",\"right_units\":\"screen\",\"top_units\":\"screen\"},\"id\":\"632aa409-a9c6-4065-9eff-3b706464196d\",\"type\":\"BoxAnnotation\"},{\"attributes\":{\"overlay\":{\"id\":\"632aa409-a9c6-4065-9eff-3b706464196d\",\"type\":\"BoxAnnotation\"},\"plot\":{\"id\":\"873849f8-bbe4-4be7-ab74-1bb79d823448\",\"subtype\":\"Figure\",\"type\":\"Plot\"}},\"id\":\"b30c563b-c9f5-4cac-b51a-5fa0830a210a\",\"type\":\"BoxZoomTool\"},{\"attributes\":{\"callback\":null},\"id\":\"ffb23987-4934-4654-b8af-18a5ef948198\",\"type\":\"DataRange1d\"},{\"attributes\":{\"dimension\":1,\"plot\":{\"id\":\"873849f8-bbe4-4be7-ab74-1bb79d823448\",\"subtype\":\"Figure\",\"type\":\"Plot\"},\"ticker\":{\"id\":\"804ecc06-934e-4906-82ae-f3bb52e642dc\",\"type\":\"BasicTicker\"}},\"id\":\"b57f9e62-85a6-4758-8608-c738f0d85bde\",\"type\":\"Grid\"},{\"attributes\":{\"data_source\":{\"id\":\"10172ff6-6730-4425-bc93-98ce86065fc0\",\"type\":\"ColumnDataSource\"},\"glyph\":{\"id\":\"7662b75c-3370-423f-b3b6-5780450042bb\",\"type\":\"Line\"},\"hover_glyph\":null,\"muted_glyph\":null,\"nonselection_glyph\":{\"id\":\"d7d64656-b010-4af0-9150-0149ffacc91e\",\"type\":\"Line\"},\"selection_glyph\":null},\"id\":\"f7dd13fc-d963-4939-a118-8d2e5f3625e2\",\"type\":\"GlyphRenderer\"},{\"attributes\":{\"active_drag\":\"auto\",\"active_scroll\":\"auto\",\"active_tap\":\"auto\",\"tools\":[{\"id\":\"2d0fd709-fe00-4bf8-bce6-af5c70f377f7\",\"type\":\"PanTool\"},{\"id\":\"0ffd0a57-2e09-4f9a-8673-c26c6a13ad59\",\"type\":\"WheelZoomTool\"},{\"id\":\"b30c563b-c9f5-4cac-b51a-5fa0830a210a\",\"type\":\"BoxZoomTool\"},{\"id\":\"27ef8116-eb12-4a29-a2c2-8f4c2f59ba09\",\"type\":\"SaveTool\"},{\"id\":\"07bb9c69-8fdd-4865-b3cc-ca866134a3f9\",\"type\":\"ResetTool\"},{\"id\":\"d53445de-96d9-4fab-816e-f807d4f1f7ef\",\"type\":\"HelpTool\"}]},\"id\":\"6736f25f-fa4d-4d22-96dc-24eeaae8d632\",\"type\":\"Toolbar\"},{\"attributes\":{},\"id\":\"804ecc06-934e-4906-82ae-f3bb52e642dc\",\"type\":\"BasicTicker\"},{\"attributes\":{\"plot\":{\"id\":\"873849f8-bbe4-4be7-ab74-1bb79d823448\",\"subtype\":\"Figure\",\"type\":\"Plot\"}},\"id\":\"d53445de-96d9-4fab-816e-f807d4f1f7ef\",\"type\":\"HelpTool\"},{\"attributes\":{\"formatter\":{\"id\":\"52f3ee39-5bce-453e-8694-63158798e642\",\"type\":\"BasicTickFormatter\"},\"plot\":{\"id\":\"873849f8-bbe4-4be7-ab74-1bb79d823448\",\"subtype\":\"Figure\",\"type\":\"Plot\"},\"ticker\":{\"id\":\"804ecc06-934e-4906-82ae-f3bb52e642dc\",\"type\":\"BasicTicker\"}},\"id\":\"8b2e584e-4060-442a-b492-3580f8a03ffd\",\"type\":\"LinearAxis\"},{\"attributes\":{\"callback\":null},\"id\":\"07450bb3-77ba-49fa-b2e5-e7699030ff35\",\"type\":\"DataRange1d\"},{\"attributes\":{\"plot\":{\"id\":\"873849f8-bbe4-4be7-ab74-1bb79d823448\",\"subtype\":\"Figure\",\"type\":\"Plot\"}},\"id\":\"2d0fd709-fe00-4bf8-bce6-af5c70f377f7\",\"type\":\"PanTool\"},{\"attributes\":{},\"id\":\"52f3ee39-5bce-453e-8694-63158798e642\",\"type\":\"BasicTickFormatter\"},{\"attributes\":{\"fill_alpha\":{\"value\":0.8},\"fill_color\":{\"value\":\"red\"},\"line_alpha\":{\"value\":0.8},\"line_color\":{\"value\":\"red\"},\"size\":{\"units\":\"screen\",\"value\":3},\"x\":{\"field\":\"number\"},\"y\":{\"field\":\"probability\"}},\"id\":\"f135cc65-7637-45e2-9653-ebd0e7780ca9\",\"type\":\"Circle\"},{\"attributes\":{},\"id\":\"54bde3e3-02df-45c6-b09a-aa90c5fc0b08\",\"type\":\"BasicTicker\"},{\"attributes\":{\"data_source\":{\"id\":\"10172ff6-6730-4425-bc93-98ce86065fc0\",\"type\":\"ColumnDataSource\"},\"glyph\":{\"id\":\"f135cc65-7637-45e2-9653-ebd0e7780ca9\",\"type\":\"Circle\"},\"hover_glyph\":null,\"muted_glyph\":null,\"nonselection_glyph\":{\"id\":\"b0727e09-54a9-4395-95fe-1729bf9b7daf\",\"type\":\"Circle\"},\"selection_glyph\":null},\"id\":\"0e712fd8-bf79-429f-9107-feeac88abd26\",\"type\":\"GlyphRenderer\"},{\"attributes\":{\"plot\":null,\"text\":\"Simulation for Birthday Problem\",\"text_color\":{\"value\":\"black\"},\"text_font\":\"times\"},\"id\":\"57aa17e4-e38a-4180-8af0-2b12e4305d9a\",\"type\":\"Title\"},{\"attributes\":{\"plot\":{\"id\":\"873849f8-bbe4-4be7-ab74-1bb79d823448\",\"subtype\":\"Figure\",\"type\":\"Plot\"}},\"id\":\"27ef8116-eb12-4a29-a2c2-8f4c2f59ba09\",\"type\":\"SaveTool\"},{\"attributes\":{\"line_alpha\":{\"value\":0.1},\"line_color\":{\"value\":\"#1f77b4\"},\"line_dash\":[10,4],\"x\":{\"field\":\"number\"},\"y\":{\"field\":\"probability\"}},\"id\":\"d7d64656-b010-4af0-9150-0149ffacc91e\",\"type\":\"Line\"},{\"attributes\":{\"plot\":{\"id\":\"873849f8-bbe4-4be7-ab74-1bb79d823448\",\"subtype\":\"Figure\",\"type\":\"Plot\"}},\"id\":\"07bb9c69-8fdd-4865-b3cc-ca866134a3f9\",\"type\":\"ResetTool\"},{\"attributes\":{},\"id\":\"5e9effe0-5c45-4eaa-8c73-75d6dacf1c1d\",\"type\":\"ToolEvents\"},{\"attributes\":{\"line_alpha\":{\"value\":0.8},\"line_dash\":[10,4],\"x\":{\"field\":\"number\"},\"y\":{\"field\":\"probability\"}},\"id\":\"7662b75c-3370-423f-b3b6-5780450042bb\",\"type\":\"Line\"},{\"attributes\":{\"plot\":{\"id\":\"873849f8-bbe4-4be7-ab74-1bb79d823448\",\"subtype\":\"Figure\",\"type\":\"Plot\"}},\"id\":\"0ffd0a57-2e09-4f9a-8673-c26c6a13ad59\",\"type\":\"WheelZoomTool\"},{\"attributes\":{},\"id\":\"f98ad0a6-55b4-4e50-96e0-ab0a4092cbc6\",\"type\":\"BasicTickFormatter\"},{\"attributes\":{\"formatter\":{\"id\":\"f98ad0a6-55b4-4e50-96e0-ab0a4092cbc6\",\"type\":\"BasicTickFormatter\"},\"plot\":{\"id\":\"873849f8-bbe4-4be7-ab74-1bb79d823448\",\"subtype\":\"Figure\",\"type\":\"Plot\"},\"ticker\":{\"id\":\"54bde3e3-02df-45c6-b09a-aa90c5fc0b08\",\"type\":\"BasicTicker\"}},\"id\":\"3de04199-5ecd-4d5c-87b4-ffd70a863ee9\",\"type\":\"LinearAxis\"}],\"root_ids\":[\"873849f8-bbe4-4be7-ab74-1bb79d823448\"]},\"title\":\"Bokeh Application\",\"version\":\"0.12.5\"}};\n",
       "            var render_items = [{\"docid\":\"b88c7e74-86a3-4ba4-8fb5-1ea1e1dbf02d\",\"elementid\":\"836da896-76f8-4f7a-8c77-338094176cef\",\"modelid\":\"873849f8-bbe4-4be7-ab74-1bb79d823448\"}];\n",
       "            \n",
       "            Bokeh.embed.embed_items(docs_json, render_items);\n",
       "          };\n",
       "          if (document.readyState != \"loading\") fn();\n",
       "          else document.addEventListener(\"DOMContentLoaded\", fn);\n",
       "        })();\n",
       "      },\n",
       "      function(Bokeh) {\n",
       "      }\n",
       "    ];\n",
       "  \n",
       "    function run_inline_js() {\n",
       "      \n",
       "      if ((window.Bokeh !== undefined) || (force === true)) {\n",
       "        for (var i = 0; i < inline_js.length; i++) {\n",
       "          inline_js[i](window.Bokeh);\n",
       "        }if (force === true) {\n",
       "          display_loaded();\n",
       "        }} else if (Date.now() < window._bokeh_timeout) {\n",
       "        setTimeout(run_inline_js, 100);\n",
       "      } else if (!window._bokeh_failed_load) {\n",
       "        console.log(\"Bokeh: BokehJS failed to load within specified timeout.\");\n",
       "        window._bokeh_failed_load = true;\n",
       "      } else if (force !== true) {\n",
       "        var cell = $(document.getElementById(\"836da896-76f8-4f7a-8c77-338094176cef\")).parents('.cell').data().cell;\n",
       "        cell.output_area.append_execute_result(NB_LOAD_WARNING)\n",
       "      }\n",
       "  \n",
       "    }\n",
       "  \n",
       "    if (window._bokeh_is_loading === 0) {\n",
       "      console.log(\"Bokeh: BokehJS loaded, going straight to plotting\");\n",
       "      run_inline_js();\n",
       "    } else {\n",
       "      load_libs(js_urls, function() {\n",
       "        console.log(\"Bokeh: BokehJS plotting callback run at\", now());\n",
       "        run_inline_js();\n",
       "      });\n",
       "    }\n",
       "  }(this));\n",
       "</script>"
      ]
     },
     "metadata": {},
     "output_type": "display_data"
    }
   ],
   "source": [
    "p = figure(plot_width=600, plot_height=400, title=\"Simulation for Birthday Problem\" )\n",
    "p.line(x='number',y='probability',source = source,     # 设置x，y值, source → 数据源\n",
    "       line_width=1, line_alpha = 0.8, line_color = 'black',line_dash = [10,4])   # 线型基本设置\n",
    "# 绘制折线图\n",
    "p.circle(x='number',y='probability',source = source, \n",
    "         size = 3,color = 'red',alpha = 0.8)\n",
    "# 绘制折点\n",
    "p.background_fill_color = \"aliceblue\" \n",
    "\n",
    "p.title.text_color = \"black\"\n",
    "p.title.text_font = \"times\"\n",
    "\n",
    "p.outline_line_width = 5         # 边框线宽\n",
    "p.outline_line_alpha = 0.3       # 边框线透明度\n",
    "p.outline_line_color = \"yellow\"    # 边框线颜色\n",
    "\n",
    "show(p)"
   ]
  },
  {
   "cell_type": "code",
   "execution_count": 69,
   "metadata": {},
   "outputs": [
    {
     "data": {
      "text/html": [
       "<div>\n",
       "<style>\n",
       "    .dataframe thead tr:only-child th {\n",
       "        text-align: right;\n",
       "    }\n",
       "\n",
       "    .dataframe thead th {\n",
       "        text-align: left;\n",
       "    }\n",
       "\n",
       "    .dataframe tbody tr th {\n",
       "        vertical-align: top;\n",
       "    }\n",
       "</style>\n",
       "<table border=\"1\" class=\"dataframe\">\n",
       "  <thead>\n",
       "    <tr style=\"text-align: right;\">\n",
       "      <th></th>\n",
       "      <th>number</th>\n",
       "      <th>probability</th>\n",
       "    </tr>\n",
       "  </thead>\n",
       "  <tbody>\n",
       "    <tr>\n",
       "      <th>0</th>\n",
       "      <td>10</td>\n",
       "      <td>0.11780</td>\n",
       "    </tr>\n",
       "    <tr>\n",
       "      <th>1</th>\n",
       "      <td>15</td>\n",
       "      <td>0.25256</td>\n",
       "    </tr>\n",
       "    <tr>\n",
       "      <th>2</th>\n",
       "      <td>20</td>\n",
       "      <td>0.40836</td>\n",
       "    </tr>\n",
       "    <tr>\n",
       "      <th>3</th>\n",
       "      <td>25</td>\n",
       "      <td>0.57049</td>\n",
       "    </tr>\n",
       "    <tr>\n",
       "      <th>4</th>\n",
       "      <td>30</td>\n",
       "      <td>0.70576</td>\n",
       "    </tr>\n",
       "    <tr>\n",
       "      <th>5</th>\n",
       "      <td>35</td>\n",
       "      <td>0.81437</td>\n",
       "    </tr>\n",
       "    <tr>\n",
       "      <th>6</th>\n",
       "      <td>40</td>\n",
       "      <td>0.89155</td>\n",
       "    </tr>\n",
       "    <tr>\n",
       "      <th>7</th>\n",
       "      <td>45</td>\n",
       "      <td>0.94039</td>\n",
       "    </tr>\n",
       "    <tr>\n",
       "      <th>8</th>\n",
       "      <td>50</td>\n",
       "      <td>0.97070</td>\n",
       "    </tr>\n",
       "    <tr>\n",
       "      <th>9</th>\n",
       "      <td>55</td>\n",
       "      <td>0.98692</td>\n",
       "    </tr>\n",
       "    <tr>\n",
       "      <th>10</th>\n",
       "      <td>60</td>\n",
       "      <td>0.99401</td>\n",
       "    </tr>\n",
       "    <tr>\n",
       "      <th>11</th>\n",
       "      <td>65</td>\n",
       "      <td>0.99804</td>\n",
       "    </tr>\n",
       "  </tbody>\n",
       "</table>\n",
       "</div>"
      ],
      "text/plain": [
       "    number  probability\n",
       "0       10      0.11780\n",
       "1       15      0.25256\n",
       "2       20      0.40836\n",
       "3       25      0.57049\n",
       "4       30      0.70576\n",
       "5       35      0.81437\n",
       "6       40      0.89155\n",
       "7       45      0.94039\n",
       "8       50      0.97070\n",
       "9       55      0.98692\n",
       "10      60      0.99401\n",
       "11      65      0.99804"
      ]
     },
     "execution_count": 69,
     "metadata": {},
     "output_type": "execute_result"
    }
   ],
   "source": [
    "df"
   ]
  }
 ],
 "metadata": {
  "kernelspec": {
   "display_name": "Python 3",
   "language": "python",
   "name": "python3"
  },
  "language_info": {
   "codemirror_mode": {
    "name": "ipython",
    "version": 3
   },
   "file_extension": ".py",
   "mimetype": "text/x-python",
   "name": "python",
   "nbconvert_exporter": "python",
   "pygments_lexer": "ipython3",
   "version": "3.6.1"
  }
 },
 "nbformat": 4,
 "nbformat_minor": 2
}
