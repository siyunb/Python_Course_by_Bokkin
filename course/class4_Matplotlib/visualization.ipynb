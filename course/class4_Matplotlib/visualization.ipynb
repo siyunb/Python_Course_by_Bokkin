{
 "cells": [
  {
   "cell_type": "markdown",
   "metadata": {},
   "source": [
    "# 数据可视化\n",
    "数据可视化是将复杂的数据逻辑选取某个角度来进行简单而直观的展现\n",
    "+ 散点图\n",
    "  + 相关系数矩阵\n",
    "  + 星状图\n",
    "  + 气泡图\n",
    "+ 折线图\n",
    "  + 单折线图\n",
    "  + 多曲线图\n",
    "+ 柱状图\n",
    "  + 并列折线图\n",
    "  + 堆叠柱状图\n",
    "+ 箱线图\n",
    "  + 小提琴图\n",
    "+ 地图\n",
    "+ 雷达图\n",
    "+ 热图"
   ]
  },
  {
   "cell_type": "markdown",
   "metadata": {},
   "source": [
    "## 统计制图的基本概念\n",
    "+ 1.获取 \n",
    "– 得到数据，无论是本地电脑上的一个文件还是来自网络上的源文件 \n",
    "+ 2.分析 \n",
    "– 为数据的意义构造一个结构图，并按分类排序 \n",
    "+ 3.过滤 \n",
    "– 删除多余的，只保留感兴趣的数据 \n",
    "+ 4.挖掘 \n",
    "– 应用统计或数据挖掘方法来辨析数据格式，或者是把数据置于一个数据的 环境中 、\n",
    "+ 5.表述 \n",
    "– 选择一个基本的视觉模型，比如一个柱状图，列表或树状结构图 \n",
    "+ 6.修饰 \n",
    "– 改善基本的表述方法，使它变得更加清晰和更容易视觉化 \n",
    "+ 7.交互 \n",
    "– 增加方法来操作数据或控制其可见的特性"
   ]
  },
  {
   "cell_type": "markdown",
   "metadata": {},
   "source": [
    "与excel进行比较更加灵活自主，个性化更强，渲染能力更强"
   ]
  }
 ],
 "metadata": {
  "kernelspec": {
   "display_name": "Python 3",
   "language": "python",
   "name": "python3"
  },
  "language_info": {
   "codemirror_mode": {
    "name": "ipython",
    "version": 3
   },
   "file_extension": ".py",
   "mimetype": "text/x-python",
   "name": "python",
   "nbconvert_exporter": "python",
   "pygments_lexer": "ipython3",
   "version": "3.6.1"
  }
 },
 "nbformat": 4,
 "nbformat_minor": 2
}
