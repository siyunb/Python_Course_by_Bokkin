{
 "cells": [
  {
   "cell_type": "markdown",
   "metadata": {},
   "source": [
    "文本处理项目\n",
    "+ 收集数据\n",
    " + 动态爬虫\n",
    "   + 打开网页函数\n",
    "   + 发送请求函数\n",
    " + 数据预处理\n",
    "   + 日期处理\n",
    "   + 结构数据处理\n",
    "   + 非结构数据处理\n",
    " + 数据储存\n",
    "+ 模型建立\n",
    " + 数据模型ism 和 Tf-idf\n",
    " + LDA 模型\n",
    " + SVM 模型\n",
    "+ 结果表达\n",
    " + 可视化函数\n",
    "   + 柱状图\n",
    "   + 折线图\n",
    " + 表格表达"
   ]
  }
 ],
 "metadata": {
  "kernelspec": {
   "display_name": "Python 3",
   "language": "python",
   "name": "python3"
  },
  "language_info": {
   "codemirror_mode": {
    "name": "ipython",
    "version": 3
   },
   "file_extension": ".py",
   "mimetype": "text/x-python",
   "name": "python",
   "nbconvert_exporter": "python",
   "pygments_lexer": "ipython3",
   "version": "3.6.1"
  }
 },
 "nbformat": 4,
 "nbformat_minor": 2
}
