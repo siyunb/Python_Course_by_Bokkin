{
 "cells": [
  {
   "cell_type": "markdown",
   "metadata": {},
   "source": [
    "## 1、导入numpy库并简写为 np"
   ]
  },
  {
   "cell_type": "code",
   "execution_count": 1,
   "metadata": {
    "collapsed": true
   },
   "outputs": [],
   "source": [
    "import numpy as np"
   ]
  },
  {
   "cell_type": "markdown",
   "metadata": {},
   "source": [
    "## 2、创建数组\n",
    "+ （1）创建从0到9的一维数组\n",
    "+ （2）创建一个长度为10的空向量\n",
    "+ （3）确定两个数组的内存大小\n",
    "+ （4）创建一个 3x3 的单位矩阵\n",
    "+ （5）创建一个 3x3的随机数组，并找到它的最大值和最小值"
   ]
  },
  {
   "cell_type": "code",
   "execution_count": 66,
   "metadata": {},
   "outputs": [
    {
     "name": "stdout",
     "output_type": "stream",
     "text": [
      "40 bytes\n"
     ]
    },
    {
     "data": {
      "text/plain": [
       "array([0, 1, 2, 3, 4, 5, 6, 7, 8, 9])"
      ]
     },
     "execution_count": 66,
     "metadata": {},
     "output_type": "execute_result"
    }
   ],
   "source": [
    "array = np.arange(10)\n",
    "print(\"%d bytes\" % (array.size * array.itemsize))\n",
    "array"
   ]
  },
  {
   "cell_type": "code",
   "execution_count": 67,
   "metadata": {},
   "outputs": [
    {
     "name": "stdout",
     "output_type": "stream",
     "text": [
      "80 bytes\n"
     ]
    },
    {
     "data": {
      "text/plain": [
       "array([ 0.,  0.,  0.,  0.,  0.,  0.,  0.,  0.,  0.,  0.])"
      ]
     },
     "execution_count": 67,
     "metadata": {},
     "output_type": "execute_result"
    }
   ],
   "source": [
    "array = np.zeros(10)\n",
    "print(\"%d bytes\" % (array.size * array.itemsize))\n",
    "array"
   ]
  },
  {
   "cell_type": "code",
   "execution_count": 68,
   "metadata": {},
   "outputs": [
    {
     "data": {
      "text/plain": [
       "array([[ 1.,  0.,  0.],\n",
       "       [ 0.,  1.,  0.],\n",
       "       [ 0.,  0.,  1.]])"
      ]
     },
     "execution_count": 68,
     "metadata": {},
     "output_type": "execute_result"
    }
   ],
   "source": [
    "array = np.eye(3)\n",
    "array"
   ]
  },
  {
   "cell_type": "code",
   "execution_count": 71,
   "metadata": {},
   "outputs": [
    {
     "name": "stdout",
     "output_type": "stream",
     "text": [
      "the maximum is  0.937571583951\n",
      "the minimum is  0.108193382887\n"
     ]
    },
    {
     "data": {
      "text/plain": [
       "array([[ 0.60074272,  0.16797218,  0.73338017],\n",
       "       [ 0.40844386,  0.52790882,  0.93757158],\n",
       "       [ 0.52169612,  0.10819338,  0.15822341]])"
      ]
     },
     "execution_count": 71,
     "metadata": {},
     "output_type": "execute_result"
    }
   ],
   "source": [
    "array = np.random.random((3, 3))\n",
    "print ('the maximum is ', array.max())\n",
    "print ('the minimum is ', array.min())\n",
    "array"
   ]
  },
  {
   "cell_type": "markdown",
   "metadata": {},
   "source": [
    "## 3、创建一个3*3的二维数组，值全为True"
   ]
  },
  {
   "cell_type": "code",
   "execution_count": 6,
   "metadata": {},
   "outputs": [
    {
     "data": {
      "text/plain": [
       "array([[ True,  True,  True],\n",
       "       [ True,  True,  True],\n",
       "       [ True,  True,  True]], dtype=bool)"
      ]
     },
     "execution_count": 6,
     "metadata": {},
     "output_type": "execute_result"
    }
   ],
   "source": [
    "array = np.full((3,3),True)\n",
    "array"
   ]
  },
  {
   "cell_type": "markdown",
   "metadata": {},
   "source": [
    "## 4、创建一个3×3的数组，值域为0到8。\n",
    "+ （1）按行反转这个数组\n",
    "+ （2）按列反转这个数组\n",
    "+ （3）求每行的最大值"
   ]
  },
  {
   "cell_type": "code",
   "execution_count": 49,
   "metadata": {},
   "outputs": [
    {
     "name": "stdout",
     "output_type": "stream",
     "text": [
      "the max value in each row [6 7 8]\n",
      "the original matrix is \n",
      " [[0 1 2]\n",
      " [3 4 5]\n",
      " [6 7 8]]\n",
      "the matrix converted by row is \n",
      " [[6 7 8]\n",
      " [3 4 5]\n",
      " [0 1 2]]\n",
      "the matrix converted by column is \n",
      " [[8 7 6]\n",
      " [5 4 3]\n",
      " [2 1 0]]\n"
     ]
    }
   ],
   "source": [
    "array = np.arange(9).reshape(3,3)\n",
    "max_num = np.max(array,axis=0)\n",
    "print ('the max value in each row', max_num)\n",
    "print('the original matrix is \\n', array)\n",
    "array = array[::-1,:]\n",
    "print('the matrix converted by row is \\n', array)\n",
    "array = array[:,::-1]\n",
    "print('the matrix converted by column is \\n', array)"
   ]
  },
  {
   "cell_type": "markdown",
   "metadata": {},
   "source": [
    "## 5、从数组np.array([1, 2, 0, 0, 4, 0])中找出非0元素的位置索引，并检测数组中有无NaN值"
   ]
  },
  {
   "cell_type": "code",
   "execution_count": 56,
   "metadata": {},
   "outputs": [
    {
     "name": "stdout",
     "output_type": "stream",
     "text": [
      "the index is  (array([0, 1, 4], dtype=int64),)\n"
     ]
    },
    {
     "data": {
      "text/plain": [
       "False"
      ]
     },
     "execution_count": 56,
     "metadata": {},
     "output_type": "execute_result"
    }
   ],
   "source": [
    "array = np.array([1, 2, 0, 0, 4, 0])\n",
    "index = np.where(array!=0)\n",
    "print('the index is ', index)\n",
    "is_na = np.isnan(array).any()\n",
    "is_na"
   ]
  },
  {
   "cell_type": "markdown",
   "metadata": {},
   "source": [
    "## 6、从数组np.array([0, 1, 2, 3, 4, 5, 6, 7, 8, 9])中提取所有的奇数, 并在不改变原数组的条件下，将所有数组的奇数位置全部替换成-1."
   ]
  },
  {
   "cell_type": "code",
   "execution_count": 41,
   "metadata": {},
   "outputs": [
    {
     "name": "stdout",
     "output_type": "stream",
     "text": [
      "the odd number in array is \n",
      " [1 3 5 7 9]\n",
      "replace the odd number by -1 \n",
      " [ 0 -1  2 -1  4 -1  6 -1  8 -1]\n"
     ]
    }
   ],
   "source": [
    "array = np.array([0, 1, 2, 3, 4, 5, 6, 7, 8, 9])\n",
    "odd_nums = array[array%2!=0]\n",
    "print ('the odd number in array is \\n', odd_nums)\n",
    "arr = np.where(array%2!=0,-1,array)\n",
    "print ('replace the odd number by -1 \\n', arr)"
   ]
  },
  {
   "cell_type": "markdown",
   "metadata": {},
   "source": [
    "## 7、将一维数组np.arange(10)转换为2行的二维数组"
   ]
  },
  {
   "cell_type": "code",
   "execution_count": 12,
   "metadata": {},
   "outputs": [
    {
     "data": {
      "text/plain": [
       "array([[0, 1, 2, 3, 4],\n",
       "       [5, 6, 7, 8, 9]])"
      ]
     },
     "execution_count": 12,
     "metadata": {},
     "output_type": "execute_result"
    }
   ],
   "source": [
    "array = np.arange(10).reshape((2,-1))\n",
    "array"
   ]
  },
  {
   "cell_type": "markdown",
   "metadata": {},
   "source": [
    "## 8、有数组a = np.arange(10).reshape(2,-1)和数组b = np.repeat(1, 10).reshape(2,-1)\n",
    "+ （1）将数组a和b进行垂直堆叠\n",
    "+ （2）将数组a和b进行水平堆叠"
   ]
  },
  {
   "cell_type": "code",
   "execution_count": 27,
   "metadata": {},
   "outputs": [
    {
     "name": "stdout",
     "output_type": "stream",
     "text": [
      "a is \n",
      " [[0 1 2 3 4]\n",
      " [5 6 7 8 9]]\n",
      "b is \n",
      " [[1 1 1 1 1]\n",
      " [1 1 1 1 1]]\n",
      "the matrix after vertical stack is \n",
      " [[0 1 2 3 4]\n",
      " [5 6 7 8 9]\n",
      " [1 1 1 1 1]\n",
      " [1 1 1 1 1]]\n",
      "the matrix after horizontal stack is \n",
      " [[0 1 2 3 4 1 1 1 1 1]\n",
      " [5 6 7 8 9 1 1 1 1 1]]\n"
     ]
    }
   ],
   "source": [
    "a = np.arange(10).reshape(2,-1)\n",
    "b = np.repeat(1, 10).reshape(2,-1)\n",
    "print('a is \\n',a)\n",
    "print('b is \\n',b)\n",
    "array=np.vstack((a,b))\n",
    "print('the matrix after vertical stack is \\n', array)\n",
    "array = np.hstack((a,b))\n",
    "print('the matrix after horizontal stack is \\n', array)"
   ]
  },
  {
   "cell_type": "markdown",
   "metadata": {
    "collapsed": true
   },
   "source": [
    "## 9、有数组a = np.array([1,2,3,2,3,4,3,4,5,6])和数组b = np.array([7,2,10,2,7,4,9,4,9,8])\n",
    "+ （1）获取数组元素相匹配的位置\n",
    "+ （2）获取数组a,b相同的元素\n",
    "+ （3）从数组a中删除在数组b中存在的所有元素\n",
    "+ （4）删除数组a中的重复值，并统计各元素数量\n",
    "+ （5）计算两数组的欧氏距离"
   ]
  },
  {
   "cell_type": "code",
   "execution_count": 51,
   "metadata": {},
   "outputs": [
    {
     "name": "stdout",
     "output_type": "stream",
     "text": [
      "the location is \n",
      " (array([1, 3, 5, 7], dtype=int64),)\n",
      "the same elements is \n",
      " [2 4]\n",
      "the changed a is \n",
      " [1 3 3 3 5 6]\n",
      "the unique value is \n",
      " (array([1, 2, 3, 4, 5, 6]), array([1, 2, 3, 2, 1, 1], dtype=int64))\n",
      "the distance is \n",
      " 12.5299640861\n"
     ]
    }
   ],
   "source": [
    "a = np.array([1,2,3,2,3,4,3,4,5,6])\n",
    "b = np.array([7,2,10,2,7,4,9,4,9,8])\n",
    "location = np.where(a==b)\n",
    "print('the location is \\n',location)\n",
    "elements = np.intersect1d(a,b)\n",
    "print('the same elements is \\n', elements)\n",
    "index = np.array([item in b for item in a])\n",
    "array = a[~index]\n",
    "print('the changed a is \\n', array)\n",
    "count = np.unique(a,return_counts=True)\n",
    "print('the unique value is \\n', count)\n",
    "distance = np.sqrt(np.sum((a-b)**2))\n",
    "print('the distance is \\n', distance)"
   ]
  },
  {
   "cell_type": "markdown",
   "metadata": {},
   "source": [
    "## 10、创建0到14的一维数组\n",
    "+ （1）从数组中提取5到10之间的所有数字\n",
    "+ （2）在随机位换成值44"
   ]
  },
  {
   "cell_type": "code",
   "execution_count": 23,
   "metadata": {},
   "outputs": [
    {
     "data": {
      "text/plain": [
       "array([ 5,  6,  7,  8,  9, 10])"
      ]
     },
     "execution_count": 23,
     "metadata": {},
     "output_type": "execute_result"
    }
   ],
   "source": [
    "array = np.arange(15)\n",
    "index = np.where((array>=5) & (array<=10))\n",
    "nums = array[index]\n",
    "nums"
   ]
  },
  {
   "cell_type": "code",
   "execution_count": 42,
   "metadata": {},
   "outputs": [
    {
     "data": {
      "text/plain": [
       "array([ 0,  1,  2,  3,  4,  5,  6,  7, 44,  9])"
      ]
     },
     "execution_count": 42,
     "metadata": {},
     "output_type": "execute_result"
    }
   ],
   "source": [
    "np.random.seed(100)\n",
    "array[np.random.choice(len(array))] = 44\n",
    "array"
   ]
  },
  {
   "cell_type": "markdown",
   "metadata": {},
   "source": [
    "## 11、先交换数组np.arange(9).reshape(3,3)中的第1列和第2列，在此基础之上交换数组的第1行和第2行"
   ]
  },
  {
   "cell_type": "code",
   "execution_count": 28,
   "metadata": {},
   "outputs": [
    {
     "name": "stdout",
     "output_type": "stream",
     "text": [
      "the original matrix is \n",
      " [[0 1 2]\n",
      " [3 4 5]\n",
      " [6 7 8]]\n",
      "the changed matrix is \n",
      " [[1 0 2]\n",
      " [4 3 5]\n",
      " [7 6 8]]\n",
      "the changed matrix is \n",
      " [[4 3 5]\n",
      " [1 0 2]\n",
      " [7 6 8]]\n"
     ]
    }
   ],
   "source": [
    "array = np.arange(9).reshape(3,3)\n",
    "print('the original matrix is \\n', array)\n",
    "array = array[:,[1,0,2]]\n",
    "print('the changed matrix is \\n',array)\n",
    "array = array[[1,0,2],:]\n",
    "print('the changed matrix is \\n',array)"
   ]
  },
  {
   "cell_type": "markdown",
   "metadata": {},
   "source": [
    "## 12、如何创建一个形状为5x3的二维数组，其包含5到10之间的随机浮点数"
   ]
  },
  {
   "cell_type": "code",
   "execution_count": 29,
   "metadata": {},
   "outputs": [
    {
     "data": {
      "text/plain": [
       "array([[ 5.2407627 ,  6.37447771,  6.49730178],\n",
       "       [ 7.44885241,  5.60905416,  8.25700536],\n",
       "       [ 6.06438774,  6.95553597,  5.84416985],\n",
       "       [ 5.41299461,  5.40984907,  7.41576226],\n",
       "       [ 8.38411229,  8.6819244 ,  7.44855007]])"
      ]
     },
     "execution_count": 29,
     "metadata": {},
     "output_type": "execute_result"
    }
   ],
   "source": [
    "array = np.random.rand(5,3)+np.random.randint(low=5,high=10,size=(5,3))\n",
    "array"
   ]
  },
  {
   "cell_type": "markdown",
   "metadata": {},
   "source": [
    "## 13、起点2，长度10，步长3，创建一个numpy数组"
   ]
  },
  {
   "cell_type": "code",
   "execution_count": 52,
   "metadata": {},
   "outputs": [
    {
     "data": {
      "text/plain": [
       "array([ 2,  5,  8, 11, 14, 17, 20, 23, 26, 29])"
      ]
     },
     "execution_count": 52,
     "metadata": {},
     "output_type": "execute_result"
    }
   ],
   "source": [
    "array = np.arange(2,3*10+2,3)\n",
    "array"
   ]
  },
  {
   "cell_type": "markdown",
   "metadata": {},
   "source": [
    "## 14、从二维数组a = np.array([[3,3,3],[4,4,4],[5,5,5]])中的每行减去一维数组b = np.array([1,2,3])中相应的值"
   ]
  },
  {
   "cell_type": "code",
   "execution_count": 54,
   "metadata": {},
   "outputs": [
    {
     "data": {
      "text/plain": [
       "array([[2, 2, 2],\n",
       "       [2, 2, 2],\n",
       "       [2, 2, 2]])"
      ]
     },
     "execution_count": 54,
     "metadata": {},
     "output_type": "execute_result"
    }
   ],
   "source": [
    "a = np.array([[3,3,3],[4,4,4],[5,5,5]])\n",
    "b = np.array([1,2,3])\n",
    "array = a-b[:,np.newaxis]\n",
    "array"
   ]
  },
  {
   "cell_type": "markdown",
   "metadata": {},
   "source": [
    "## 15、生成一个含nan的一维数组，并将nan替换为0"
   ]
  },
  {
   "cell_type": "code",
   "execution_count": 58,
   "metadata": {},
   "outputs": [
    {
     "data": {
      "text/plain": [
       "array([ 1.,  2.,  3.,  2.,  0.,  4.,  3.,  4.,  5.,  6.])"
      ]
     },
     "execution_count": 58,
     "metadata": {},
     "output_type": "execute_result"
    }
   ],
   "source": [
    "array = np.array([1,2,3,2,np.nan,4,3,4,5,6])\n",
    "array[np.isnan(array)] = 0\n",
    "array"
   ]
  },
  {
   "cell_type": "markdown",
   "metadata": {},
   "source": [
    "## 16、把数组np.random.randint(1,10(3,3))按照数组最后一列的数值进行排序"
   ]
  },
  {
   "cell_type": "code",
   "execution_count": 60,
   "metadata": {},
   "outputs": [
    {
     "data": {
      "text/plain": [
       "array([[8, 6, 2],\n",
       "       [3, 8, 8],\n",
       "       [9, 8, 9]])"
      ]
     },
     "execution_count": 60,
     "metadata": {},
     "output_type": "execute_result"
    }
   ],
   "source": [
    "np.random.seed(4)\n",
    "array = np.random.randint(1,10,(3,3))\n",
    "order = np.argsort(array[:,-1])\n",
    "array = array[order,:]\n",
    "array"
   ]
  },
  {
   "cell_type": "markdown",
   "metadata": {},
   "source": [
    "## 17、有数组np.array([7,2,10,2,7,4,9,4,9,8])\n",
    "+ （1）数组第二大值\n",
    "+ （2）求出现频率最高的值"
   ]
  },
  {
   "cell_type": "code",
   "execution_count": 62,
   "metadata": {},
   "outputs": [
    {
     "name": "stdout",
     "output_type": "stream",
     "text": [
      "the second biggest value is  9\n",
      "the most frequent value is  2\n"
     ]
    }
   ],
   "source": [
    "array = np.array([7,2,10,2,7,2,4,9,4,9,8])\n",
    "num = np.unique(array)[-2]\n",
    "most_frequent = np.unique(array,return_counts=True)[0][0]\n",
    "print('the second biggest value is ',num)\n",
    "print('the most frequent value is ',most_frequent)"
   ]
  },
  {
   "cell_type": "markdown",
   "metadata": {},
   "source": [
    "## 18、创建一个5*5的矩阵，每行的数值都是从0到4"
   ]
  },
  {
   "cell_type": "code",
   "execution_count": 63,
   "metadata": {},
   "outputs": [
    {
     "data": {
      "text/plain": [
       "array([[ 0.,  1.,  2.,  3.,  4.],\n",
       "       [ 0.,  1.,  2.,  3.,  4.],\n",
       "       [ 0.,  1.,  2.,  3.,  4.],\n",
       "       [ 0.,  1.,  2.,  3.,  4.],\n",
       "       [ 0.,  1.,  2.,  3.,  4.]])"
      ]
     },
     "execution_count": 63,
     "metadata": {},
     "output_type": "execute_result"
    }
   ],
   "source": [
    "array1 = np.arange(5)\n",
    "array2 = np.zeros((5,5))\n",
    "array = array1+array2\n",
    "array"
   ]
  },
  {
   "cell_type": "markdown",
   "metadata": {},
   "source": [
    "## 19、对于一个数组，如何添加一个用0填充的边界?  \n",
    "这个在机器学习的卷积网络中是很重要的"
   ]
  },
  {
   "cell_type": "code",
   "execution_count": 73,
   "metadata": {},
   "outputs": [
    {
     "data": {
      "text/plain": [
       "array([[ 0.,  0.,  0.,  0.,  0.,  0.,  0.],\n",
       "       [ 0.,  1.,  1.,  1.,  1.,  1.,  0.],\n",
       "       [ 0.,  1.,  1.,  1.,  1.,  1.,  0.],\n",
       "       [ 0.,  1.,  1.,  1.,  1.,  1.,  0.],\n",
       "       [ 0.,  1.,  1.,  1.,  1.,  1.,  0.],\n",
       "       [ 0.,  1.,  1.,  1.,  1.,  1.,  0.],\n",
       "       [ 0.,  0.,  0.,  0.,  0.,  0.,  0.]])"
      ]
     },
     "execution_count": 73,
     "metadata": {},
     "output_type": "execute_result"
    }
   ],
   "source": [
    "a = np.ones((5, 5))\n",
    "a = np.pad(a, pad_width=1, mode='constant', constant_values=0)\n",
    "a"
   ]
  }
 ],
 "metadata": {
  "kernelspec": {
   "display_name": "Python 3",
   "language": "python",
   "name": "python3"
  },
  "language_info": {
   "codemirror_mode": {
    "name": "ipython",
    "version": 3
   },
   "file_extension": ".py",
   "mimetype": "text/x-python",
   "name": "python",
   "nbconvert_exporter": "python",
   "pygments_lexer": "ipython3",
   "version": "3.6.1"
  }
 },
 "nbformat": 4,
 "nbformat_minor": 2
}
