{
 "cells": [
  {
   "cell_type": "markdown",
   "metadata": {},
   "source": [
    "**题目1**：有四个数字：1、2、3、4，能组成多少个互不相同且无重复数字的三位数？各是多少？"
   ]
  },
  {
   "cell_type": "markdown",
   "metadata": {},
   "source": [
    "**程序分析**：可填在百位、十位、个位的数字都是1、2、3、4。组成所有的排列后再去 掉不满足条件的排列。"
   ]
  },
  {
   "cell_type": "code",
   "execution_count": 1,
   "metadata": {
    "collapsed": true
   },
   "outputs": [
    {
     "name": "stdout",
     "output_type": "stream",
     "text": [
      "1 2 3\n",
      "1 2 4\n",
      "1 3 2\n",
      "1 3 4\n",
      "1 4 2\n",
      "1 4 3\n",
      "2 1 3\n",
      "2 1 4\n",
      "2 3 1\n",
      "2 3 4\n",
      "2 4 1\n",
      "2 4 3\n",
      "3 1 2\n",
      "3 1 4\n",
      "3 2 1\n",
      "3 2 4\n",
      "3 4 1\n",
      "3 4 2\n",
      "4 1 2\n",
      "4 1 3\n",
      "4 2 1\n",
      "4 2 3\n",
      "4 3 1\n",
      "4 3 2\n"
     ]
    }
   ],
   "source": [
    "for i in range(1,5):\n",
    "    for j in range(1,5):\n",
    "        for k in range(1,5):\n",
    "            if( i != k ) and (i != j) and (j != k):\n",
    "                print(i,j,k)"
   ]
  },
  {
   "cell_type": "markdown",
   "metadata": {},
   "source": [
    "**题目2**：企业发放的奖金根据利润提成。利润(I)低于或等于10万元时，奖金可提10%；利润高于10万元，低于20万元时，低于10万元的部分按10%提成，高于10万元的部分，可提成7.5%；20万到40万之间时，高于20万元的部分，可提成5%；40万到60万之间时高于40万元的部分，可提成3%；60万到100万之间时，高于60万元的部分，可提成1.5%，高于100万元时，超过100万元的部分按1%提成，从键盘输入当月利润I，求应发放奖金总数？"
   ]
  },
  {
   "cell_type": "markdown",
   "metadata": {},
   "source": [
    "**程序分析**：请利用数轴来分界，定位。注意定义时需把奖金定义成长整型。\n"
   ]
  },
  {
   "cell_type": "code",
   "execution_count": 6,
   "metadata": {},
   "outputs": [
    {
     "name": "stdout",
     "output_type": "stream",
     "text": [
      "净利润:120000\n",
      "1500.0\n",
      "10000.0\n",
      "11500.0\n"
     ]
    }
   ],
   "source": [
    "i = int(input('净利润:'))\n",
    "arr = [1000000,600000,400000,200000,100000,0]\n",
    "rat = [0.01,0.015,0.03,0.05,0.075,0.1]\n",
    "r = 0\n",
    "for idx in range(0,6):\n",
    "    if i>arr[idx]:\n",
    "        r+=(i-arr[idx])*rat[idx]\n",
    "        print ((i-arr[idx])*rat[idx])\n",
    "        i=arr[idx]\n",
    "print (r)"
   ]
  },
  {
   "cell_type": "markdown",
   "metadata": {},
   "source": [
    "**题目3**：一个整数，它加上100后是一个完全平方数，再加上168又是一个完全平方数，请问该数是多少？\n"
   ]
  },
  {
   "cell_type": "markdown",
   "metadata": {},
   "source": [
    "**程序分析**：\n",
    "假设该数为 x。\n",
    "1、则：x + 100 = n2, x + 100 + 168 = m2\n",
    "2、计算等式：m2 - n2 = (m + n)(m - n) = 168\n",
    "3、设置： m + n = i，m - n = j，i * j =168，i 和 j 至少一个是偶数\n",
    "4、可得： m = (i + j) / 2， n = (i - j) / 2，i 和 j 要么都是偶数，要么都是奇数。\n",
    "5、从 3 和 4 推导可知道，i 与 j 均是大于等于 2 的偶数。\n",
    "6、由于 i * j = 168， j>=2，则 1 < i < 168 / 2 + 1。\n",
    "7、接下来将 i 的所有数字循环计算即可。"
   ]
  },
  {
   "cell_type": "code",
   "execution_count": 7,
   "metadata": {},
   "outputs": [
    {
     "name": "stdout",
     "output_type": "stream",
     "text": [
      "-99.0\n",
      "21.0\n",
      "261.0\n",
      "1581.0\n"
     ]
    }
   ],
   "source": [
    "for i in range(1,85):\n",
    "    if 168 % i == 0:\n",
    "        j = 168 / i;\n",
    "        if  i > j and (i + j) % 2 == 0 and (i - j) % 2 == 0 :\n",
    "            m = (i + j) / 2\n",
    "            n = (i - j) / 2\n",
    "            x = n * n - 100\n",
    "            print(x)"
   ]
  },
  {
   "cell_type": "markdown",
   "metadata": {},
   "source": [
    "**题目4**：输入某年某月某日，判断这一天是这一年的第几天？"
   ]
  },
  {
   "cell_type": "markdown",
   "metadata": {},
   "source": [
    "**程序分析**：以3月5日为例，应该先把前两个月的加起来，然后再加上5天即本年的第几天，特殊情况，闰年且输入月份大于2时需考虑多加一天："
   ]
  },
  {
   "cell_type": "code",
   "execution_count": 8,
   "metadata": {},
   "outputs": [
    {
     "name": "stdout",
     "output_type": "stream",
     "text": [
      "year:\n",
      "2012\n",
      "month:\n",
      "3\n",
      "day:\n",
      "5\n",
      "it is the 65th day.\n"
     ]
    }
   ],
   "source": [
    "year = int(input('year:\\n'))\n",
    "month = int(input('month:\\n'))\n",
    "day = int(input('day:\\n'))\n",
    " \n",
    "months = (0,31,59,90,120,151,181,212,243,273,304,334)\n",
    "if 0 < month <= 12:\n",
    "    sum = months[month - 1]\n",
    "else:\n",
    "    print ('data error')\n",
    "sum += day\n",
    "leap = 0\n",
    "if (year % 400 == 0) or ((year % 4 == 0) and (year % 100 != 0)):\n",
    "    leap = 1\n",
    "if (leap == 1) and (month > 2):\n",
    "    sum += 1\n",
    "print ('it is the %dth day.' % sum)"
   ]
  },
  {
   "cell_type": "markdown",
   "metadata": {},
   "source": [
    "**题目5**：输入三个整数x,y,z，请把这三个数由小到大输出"
   ]
  },
  {
   "cell_type": "markdown",
   "metadata": {},
   "source": [
    "**程序分析**：我们想办法把最小的数放到x上，先将x与y进行比较，如果x>y则将x与y的值进行交换，然后再用x与z进行比较，如果x>z则将x与z的值进行交换，这样能使x最小。"
   ]
  },
  {
   "cell_type": "code",
   "execution_count": 10,
   "metadata": {},
   "outputs": [
    {
     "name": "stdout",
     "output_type": "stream",
     "text": [
      "integer:\n",
      "6\n",
      "integer:\n",
      "7\n",
      "integer:\n",
      "8\n",
      "[6, 7, 8]\n"
     ]
    }
   ],
   "source": [
    "l = []\n",
    "for i in range(3):\n",
    "    x = int(input('integer:\\n'))\n",
    "    l.append(x)\n",
    "l.sort()\n",
    "print (l)"
   ]
  }
 ],
 "metadata": {
  "kernelspec": {
   "display_name": "Python 3",
   "language": "python",
   "name": "python3"
  },
  "language_info": {
   "codemirror_mode": {
    "name": "ipython",
    "version": 3
   },
   "file_extension": ".py",
   "mimetype": "text/x-python",
   "name": "python",
   "nbconvert_exporter": "python",
   "pygments_lexer": "ipython3",
   "version": "3.6.1"
  }
 },
 "nbformat": 4,
 "nbformat_minor": 2
}
